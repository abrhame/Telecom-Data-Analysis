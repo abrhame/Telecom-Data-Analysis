import sys
import os
sys.path.append(os.path.abspath('../scripts'))


from load_data import load_data_from_postgres, load_data_using_sqlalchemy



# Define your SQL query
query = "SELECT * FROM xdr_data;"  # Replace with your actual table name

# Load data from PostgreSQL
df = load_data_from_postgres(query)

# Display the first few rows of the dataframe
if df is not None:
    print("Successfully loaded the data")
else:
    print("Failed to load data.")










